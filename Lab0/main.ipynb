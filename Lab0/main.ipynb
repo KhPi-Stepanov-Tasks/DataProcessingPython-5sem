{
 "cells": [
  {
   "cell_type": "markdown",
   "metadata": {},
   "source": [
    "<h1><center>Основи роботи в середовищі Jupyter Notebook</center></h1>\n",
    "\n",
    "<h1><center>Мета</center></h1>\n",
    "<p>\n",
    "    ознайомитись з особливістю використання мови Python в\n",
    "    середовищі Jupyter Notebook та отримати навички роботи з блокнотом.\n",
    "</p>\n",
    "\n",
    "<h1><center>Вимоги до завдання</center></h1>\n",
    "\n",
    "<ol>\n",
    "    <li>Встановити Jupyter notebook</li>\n",
    "    <li>Налаштувати робочу папку</li>\n",
    "    <li>Виберіть один варіант для цієї лабораторної роботи, використовуючи формулу</li>\n",
    "    <li>\n",
    "        За допомогою мови Markdown та HTML тегів для країни, відповідно до\n",
    "        свого номеру варіанту (див. табл. 1), ввести інформацію щодо площини,\n",
    "        населення, державного устрою, видатних персоналій, пам’яток культури та\n",
    "        природи тощо. При оформленні інформації повинні бути використані:\n",
    "        <ul>\n",
    "            <li>ироди тощо. При оформленні інформації повинні бути використані</li>\n",
    "            <li>заголовки різних рівнів</li>\n",
    "            <li>різні види накреслення символів (курсив, напівжирний тощо)</li>\n",
    "            <li>символи різних кольорів</li>\n",
    "            <li>рамки навколо тексту</li>\n",
    "            <li>таблиці</li>\n",
    "            <li>вкладені списки</li>\n",
    "            <li>картинки за допомогою посилань та вбудовані</li>\n",
    "            <li>гіперпосиланн</li>\n",
    "            <li>за допомогою HTML тегу svg намалювати флаг країни</li>\n",
    "        </ul>\n",
    "    </li>\n",
    "    <li>\n",
    "        Створити функцію для реалізації алгоритму, відповідно до номеру свого\n",
    "        варіанту з табл. 1. Для створеної функції реалізувати 2-3 тестові приклади в\n",
    "        комірках ноутбуку. Для всіх варіантів організувати контроль значень, що\n",
    "        вводяться\n",
    "    </li>\n",
    "</ol>\n",
    "\n",
    "<h1><center>Виконання завдання</center></h1>\n",
    "\n",
    "## Варіант"
   ]
  },
  {
   "cell_type": "code",
   "execution_count": 17,
   "metadata": {},
   "outputs": [
    {
     "name": "stdout",
     "output_type": "stream",
     "text": [
      "My variant:  8\n"
     ]
    }
   ],
   "source": [
    "print(\"My variant: \", ord(\"M\") % 10 + 1)"
   ]
  },
  {
   "cell_type": "markdown",
   "metadata": {},
   "source": [
    "# Імпорт"
   ]
  },
  {
   "cell_type": "code",
   "execution_count": 15,
   "metadata": {},
   "outputs": [],
   "source": [
    "from IPython.core.display import HTML"
   ]
  },
  {
   "cell_type": "markdown",
   "metadata": {},
   "source": [
    "# Грузія\n",
    "\n",
    "![Герб](https://upload.wikimedia.org/wikipedia/commons/thumb/4/44/Lesser_coat_of_arms_of_Georgia.svg/100px-Lesser_coat_of_arms_of_Georgia.svg.png)\n",
    "\n",
    "## Загальна інформація\n",
    "- **Площа:** 69,700 квадратних кілометрів\n",
    "- **Населення:** Близько 4 мільйонів\n",
    "- **Державний устрій:** Республіка\n",
    "- **Столиця:** <span style=\"color:red;\">Тбіісі</span>\n",
    "\n",
    "## Видатні персоналії\n",
    "- **Шота Руставелі:** Видатний грузинський поет.\n",
    "- **Михайло Саакашвілі:** Грузинський політик та бувший президент Грузії.\n",
    "\n",
    "## Пам'ятки культури\n",
    "- **Светіцховели Собор:** Давній християнський собор в Мцхеті, включений до списку Світової спадщини *ЮНЕСКО*.\n",
    "- **Нарикала Черкеській Фортеця:** Давньоримська фортеця, яка зараз є музеєм під відкритим небом.\n",
    "\n",
    "## Природа\n",
    "- Грузія славиться своєю красивою природою, включаючи високі гори Кавказу, живописні озера та численні природні заповідники.\n",
    "\n",
    "## Флаг"
   ]
  },
  {
   "cell_type": "code",
   "execution_count": 16,
   "metadata": {},
   "outputs": [
    {
     "data": {
      "text/html": [
       " \n",
       "<svg xmlns=\"http://www.w3.org/2000/svg\" xmlns:xlink=\"http://www.w3.org/1999/xlink\" width=\"900\" height=\"600\" viewBox=\"0 0 30 20\" fill=\"#f00\">\n",
       "\t<title>Flag of Georgia</title>\n",
       "\t<path fill=\"#fff\" d=\"m0 0h30v20H0z\"/>\n",
       "\t<path d=\"m13 0h4v20h-4zM0 8h30v4H0z\"/>\n",
       "\t<g id=\"c\">\n",
       "\t\t<g id=\"b\">\n",
       "\t\t\t<path id=\"a\" d=\"m5.7968 1.954a5.4 5.4 0 0 0 1.4064 0 10.4 10.4 0 0 0 0 4.092 5.4 5.4 0 0 0-1.4064 0 10.4 10.4 0 0 0 0-4.092z\"/>\n",
       "\t\t\t<use transform=\"rotate(90,6.5,4)\" xlink:href=\"#a\"/>\n",
       "\t\t</g>\n",
       "\t\t<use x=\"17\" xlink:href=\"#b\"/>\n",
       "\t</g>\n",
       "\t<use y=\"12\" xlink:href=\"#c\"/>\n",
       "</svg>\n"
      ],
      "text/plain": [
       "<IPython.core.display.HTML object>"
      ]
     },
     "execution_count": 16,
     "metadata": {},
     "output_type": "execute_result"
    }
   ],
   "source": [
    "HTML(''' \n",
    "<svg xmlns=\"http://www.w3.org/2000/svg\" xmlns:xlink=\"http://www.w3.org/1999/xlink\" width=\"900\" height=\"600\" viewBox=\"0 0 30 20\" fill=\"#f00\">\n",
    "\t<title>Flag of Georgia</title>\n",
    "\t<path fill=\"#fff\" d=\"m0 0h30v20H0z\"/>\n",
    "\t<path d=\"m13 0h4v20h-4zM0 8h30v4H0z\"/>\n",
    "\t<g id=\"c\">\n",
    "\t\t<g id=\"b\">\n",
    "\t\t\t<path id=\"a\" d=\"m5.7968 1.954a5.4 5.4 0 0 0 1.4064 0 10.4 10.4 0 0 0 0 4.092 5.4 5.4 0 0 0-1.4064 0 10.4 10.4 0 0 0 0-4.092z\"/>\n",
    "\t\t\t<use transform=\"rotate(90,6.5,4)\" xlink:href=\"#a\"/>\n",
    "\t\t</g>\n",
    "\t\t<use x=\"17\" xlink:href=\"#b\"/>\n",
    "\t</g>\n",
    "\t<use y=\"12\" xlink:href=\"#c\"/>\n",
    "</svg>\n",
    "''')"
   ]
  },
  {
   "cell_type": "markdown",
   "metadata": {},
   "source": [
    "## Функція сортування"
   ]
  },
  {
   "cell_type": "code",
   "execution_count": 18,
   "metadata": {},
   "outputs": [],
   "source": [
    "def task4(arr):\n",
    "    n = len(arr)\n",
    "    \n",
    "    index = 0\n",
    "    while index < n: \n",
    "        if index == 0: \n",
    "            index = index + 1\n",
    "        if arr[index] >= arr[index - 1]: \n",
    "            index = index + 1\n",
    "        else: \n",
    "            arr[index], arr[index - 1] = arr[index - 1], arr[index] \n",
    "            index = index - 1\n",
    "  \n",
    "    return arr"
   ]
  },
  {
   "cell_type": "markdown",
   "metadata": {},
   "source": [
    "## Перевірка"
   ]
  },
  {
   "cell_type": "code",
   "execution_count": 19,
   "metadata": {},
   "outputs": [
    {
     "name": "stdout",
     "output_type": "stream",
     "text": [
      "[3, 3, 5, 7, 23, 34, 78]\n"
     ]
    }
   ],
   "source": [
    "print(task4([5, 3, 78, 3, 23, 7, 34]))"
   ]
  }
 ],
 "metadata": {
  "kernelspec": {
   "display_name": "Python 3",
   "language": "python",
   "name": "python3"
  },
  "language_info": {
   "codemirror_mode": {
    "name": "ipython",
    "version": 3
   },
   "file_extension": ".py",
   "mimetype": "text/x-python",
   "name": "python",
   "nbconvert_exporter": "python",
   "pygments_lexer": "ipython3",
   "version": "3.11.4"
  }
 },
 "nbformat": 4,
 "nbformat_minor": 2
}
