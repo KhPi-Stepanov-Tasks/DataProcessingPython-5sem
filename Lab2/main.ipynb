{
 "cells": [
  {
   "cell_type": "markdown",
   "metadata": {},
   "source": [
    "# Лабораторна робота 2\n",
    "# Мета: Вивчення основних функцій Pandas для аналізу даних."
   ]
  },
  {
   "cell_type": "code",
   "execution_count": 3,
   "id": "initial_id",
   "metadata": {
    "ExecuteTime": {
     "end_time": "2023-11-12T22:50:34.216217100Z",
     "start_time": "2023-11-12T22:50:34.134197200Z"
    },
    "collapsed": true
   },
   "outputs": [
    {
     "name": "stdout",
     "output_type": "stream",
     "text": [
      "My variant: 1\n"
     ]
    }
   ],
   "source": [
    "print('My variant:', (26 + 4) % 5 + 1)"
   ]
  },
  {
   "cell_type": "markdown",
   "metadata": {},
   "source": [
    "# Номери вправ\n",
    "1, 2, 3, 5, 10, 11, 12, 13, 14, 15, 16, 17, 18, 21, 22, 23, 24, 26"
   ]
  },
  {
   "cell_type": "code",
   "execution_count": 4,
   "id": "4c29b3ab6f26d5fb",
   "metadata": {
    "ExecuteTime": {
     "end_time": "2023-11-12T22:50:35.021192200Z",
     "start_time": "2023-11-12T22:50:34.137198Z"
    },
    "collapsed": false
   },
   "outputs": [
    {
     "data": {
      "text/html": [
       "<div>\n",
       "<style scoped>\n",
       "    .dataframe tbody tr th:only-of-type {\n",
       "        vertical-align: middle;\n",
       "    }\n",
       "\n",
       "    .dataframe tbody tr th {\n",
       "        vertical-align: top;\n",
       "    }\n",
       "\n",
       "    .dataframe thead th {\n",
       "        text-align: right;\n",
       "    }\n",
       "</style>\n",
       "<table border=\"1\" class=\"dataframe\">\n",
       "  <thead>\n",
       "    <tr style=\"text-align: right;\">\n",
       "      <th></th>\n",
       "      <th>Id</th>\n",
       "      <th>Name</th>\n",
       "      <th>Year</th>\n",
       "      <th>Gender</th>\n",
       "      <th>Count</th>\n",
       "    </tr>\n",
       "  </thead>\n",
       "  <tbody>\n",
       "    <tr>\n",
       "      <th>0</th>\n",
       "      <td>1</td>\n",
       "      <td>Mary</td>\n",
       "      <td>1880</td>\n",
       "      <td>F</td>\n",
       "      <td>7065</td>\n",
       "    </tr>\n",
       "    <tr>\n",
       "      <th>1</th>\n",
       "      <td>2</td>\n",
       "      <td>Anna</td>\n",
       "      <td>1880</td>\n",
       "      <td>F</td>\n",
       "      <td>2604</td>\n",
       "    </tr>\n",
       "    <tr>\n",
       "      <th>2</th>\n",
       "      <td>3</td>\n",
       "      <td>Emma</td>\n",
       "      <td>1880</td>\n",
       "      <td>F</td>\n",
       "      <td>2003</td>\n",
       "    </tr>\n",
       "    <tr>\n",
       "      <th>3</th>\n",
       "      <td>4</td>\n",
       "      <td>Elizabeth</td>\n",
       "      <td>1880</td>\n",
       "      <td>F</td>\n",
       "      <td>1939</td>\n",
       "    </tr>\n",
       "    <tr>\n",
       "      <th>4</th>\n",
       "      <td>5</td>\n",
       "      <td>Minnie</td>\n",
       "      <td>1880</td>\n",
       "      <td>F</td>\n",
       "      <td>1746</td>\n",
       "    </tr>\n",
       "    <tr>\n",
       "      <th>5</th>\n",
       "      <td>6</td>\n",
       "      <td>Margaret</td>\n",
       "      <td>1880</td>\n",
       "      <td>F</td>\n",
       "      <td>1578</td>\n",
       "    </tr>\n",
       "    <tr>\n",
       "      <th>6</th>\n",
       "      <td>7</td>\n",
       "      <td>Ida</td>\n",
       "      <td>1880</td>\n",
       "      <td>F</td>\n",
       "      <td>1472</td>\n",
       "    </tr>\n",
       "    <tr>\n",
       "      <th>7</th>\n",
       "      <td>8</td>\n",
       "      <td>Alice</td>\n",
       "      <td>1880</td>\n",
       "      <td>F</td>\n",
       "      <td>1414</td>\n",
       "    </tr>\n",
       "  </tbody>\n",
       "</table>\n",
       "</div>"
      ],
      "text/plain": [
       "   Id       Name  Year Gender  Count\n",
       "0   1       Mary  1880      F   7065\n",
       "1   2       Anna  1880      F   2604\n",
       "2   3       Emma  1880      F   2003\n",
       "3   4  Elizabeth  1880      F   1939\n",
       "4   5     Minnie  1880      F   1746\n",
       "5   6   Margaret  1880      F   1578\n",
       "6   7        Ida  1880      F   1472\n",
       "7   8      Alice  1880      F   1414"
      ]
     },
     "execution_count": 4,
     "metadata": {},
     "output_type": "execute_result"
    }
   ],
   "source": [
    "#1 Виведіть перші 8 рядків набору даних.\n",
    "import pandas as pd\n",
    "\n",
    "csv_path = 'csv/NationalNames.csv'\n",
    "df = pd.read_csv(csv_path)\n",
    "df.head(8)"
   ]
  },
  {
   "cell_type": "code",
   "execution_count": 5,
   "id": "e8b1491946317ef4",
   "metadata": {
    "ExecuteTime": {
     "end_time": "2023-11-12T22:50:35.880091600Z",
     "start_time": "2023-11-12T22:50:35.022192700Z"
    },
    "collapsed": false
   },
   "outputs": [
    {
     "data": {
      "text/html": [
       "<div>\n",
       "<style scoped>\n",
       "    .dataframe tbody tr th:only-of-type {\n",
       "        vertical-align: middle;\n",
       "    }\n",
       "\n",
       "    .dataframe tbody tr th {\n",
       "        vertical-align: top;\n",
       "    }\n",
       "\n",
       "    .dataframe thead th {\n",
       "        text-align: right;\n",
       "    }\n",
       "</style>\n",
       "<table border=\"1\" class=\"dataframe\">\n",
       "  <thead>\n",
       "    <tr style=\"text-align: right;\">\n",
       "      <th></th>\n",
       "      <th>Id</th>\n",
       "      <th>Name</th>\n",
       "      <th>Year</th>\n",
       "      <th>Gender</th>\n",
       "      <th>Count</th>\n",
       "    </tr>\n",
       "  </thead>\n",
       "  <tbody>\n",
       "    <tr>\n",
       "      <th>1825425</th>\n",
       "      <td>1825426</td>\n",
       "      <td>Zo</td>\n",
       "      <td>2014</td>\n",
       "      <td>M</td>\n",
       "      <td>5</td>\n",
       "    </tr>\n",
       "    <tr>\n",
       "      <th>1825426</th>\n",
       "      <td>1825427</td>\n",
       "      <td>Zyeir</td>\n",
       "      <td>2014</td>\n",
       "      <td>M</td>\n",
       "      <td>5</td>\n",
       "    </tr>\n",
       "    <tr>\n",
       "      <th>1825427</th>\n",
       "      <td>1825428</td>\n",
       "      <td>Zyel</td>\n",
       "      <td>2014</td>\n",
       "      <td>M</td>\n",
       "      <td>5</td>\n",
       "    </tr>\n",
       "    <tr>\n",
       "      <th>1825428</th>\n",
       "      <td>1825429</td>\n",
       "      <td>Zykeem</td>\n",
       "      <td>2014</td>\n",
       "      <td>M</td>\n",
       "      <td>5</td>\n",
       "    </tr>\n",
       "    <tr>\n",
       "      <th>1825429</th>\n",
       "      <td>1825430</td>\n",
       "      <td>Zymeer</td>\n",
       "      <td>2014</td>\n",
       "      <td>M</td>\n",
       "      <td>5</td>\n",
       "    </tr>\n",
       "    <tr>\n",
       "      <th>1825430</th>\n",
       "      <td>1825431</td>\n",
       "      <td>Zymiere</td>\n",
       "      <td>2014</td>\n",
       "      <td>M</td>\n",
       "      <td>5</td>\n",
       "    </tr>\n",
       "    <tr>\n",
       "      <th>1825431</th>\n",
       "      <td>1825432</td>\n",
       "      <td>Zyran</td>\n",
       "      <td>2014</td>\n",
       "      <td>M</td>\n",
       "      <td>5</td>\n",
       "    </tr>\n",
       "    <tr>\n",
       "      <th>1825432</th>\n",
       "      <td>1825433</td>\n",
       "      <td>Zyrin</td>\n",
       "      <td>2014</td>\n",
       "      <td>M</td>\n",
       "      <td>5</td>\n",
       "    </tr>\n",
       "  </tbody>\n",
       "</table>\n",
       "</div>"
      ],
      "text/plain": [
       "              Id     Name  Year Gender  Count\n",
       "1825425  1825426       Zo  2014      M      5\n",
       "1825426  1825427    Zyeir  2014      M      5\n",
       "1825427  1825428     Zyel  2014      M      5\n",
       "1825428  1825429   Zykeem  2014      M      5\n",
       "1825429  1825430   Zymeer  2014      M      5\n",
       "1825430  1825431  Zymiere  2014      M      5\n",
       "1825431  1825432    Zyran  2014      M      5\n",
       "1825432  1825433    Zyrin  2014      M      5"
      ]
     },
     "execution_count": 5,
     "metadata": {},
     "output_type": "execute_result"
    }
   ],
   "source": [
    "#2 Вивести останні 8 рядків набору даних.\n",
    "import pandas as pd\n",
    "\n",
    "csv_path = 'csv/NationalNames.csv'\n",
    "df = pd.read_csv(csv_path)\n",
    "df.tail(8)"
   ]
  },
  {
   "cell_type": "code",
   "execution_count": 6,
   "id": "9f86ae40f502875f",
   "metadata": {
    "ExecuteTime": {
     "end_time": "2023-11-12T22:50:36.713193Z",
     "start_time": "2023-11-12T22:50:35.870087900Z"
    },
    "collapsed": false
   },
   "outputs": [
    {
     "data": {
      "text/html": [
       "<div>\n",
       "<style scoped>\n",
       "    .dataframe tbody tr th:only-of-type {\n",
       "        vertical-align: middle;\n",
       "    }\n",
       "\n",
       "    .dataframe tbody tr th {\n",
       "        vertical-align: top;\n",
       "    }\n",
       "\n",
       "    .dataframe thead th {\n",
       "        text-align: right;\n",
       "    }\n",
       "</style>\n",
       "<table border=\"1\" class=\"dataframe\">\n",
       "  <thead>\n",
       "    <tr style=\"text-align: right;\">\n",
       "      <th></th>\n",
       "      <th>Column name:</th>\n",
       "      <th>Data type:</th>\n",
       "    </tr>\n",
       "  </thead>\n",
       "  <tbody>\n",
       "    <tr>\n",
       "      <th>Id</th>\n",
       "      <td>Id</td>\n",
       "      <td>int64</td>\n",
       "    </tr>\n",
       "    <tr>\n",
       "      <th>Name</th>\n",
       "      <td>Name</td>\n",
       "      <td>object</td>\n",
       "    </tr>\n",
       "    <tr>\n",
       "      <th>Year</th>\n",
       "      <td>Year</td>\n",
       "      <td>int64</td>\n",
       "    </tr>\n",
       "    <tr>\n",
       "      <th>Gender</th>\n",
       "      <td>Gender</td>\n",
       "      <td>object</td>\n",
       "    </tr>\n",
       "    <tr>\n",
       "      <th>Count</th>\n",
       "      <td>Count</td>\n",
       "      <td>int64</td>\n",
       "    </tr>\n",
       "  </tbody>\n",
       "</table>\n",
       "</div>"
      ],
      "text/plain": [
       "       Column name:  Data type: \n",
       "Id                Id       int64\n",
       "Name            Name      object\n",
       "Year            Year       int64\n",
       "Gender        Gender      object\n",
       "Count          Count       int64"
      ]
     },
     "execution_count": 6,
     "metadata": {},
     "output_type": "execute_result"
    }
   ],
   "source": [
    "#3 Отримайте імена стовпців набору даних\n",
    "import pandas as pd\n",
    "\n",
    "csv_path = 'csv/NationalNames.csv'\n",
    "df = pd.read_csv(csv_path)\n",
    "pd.DataFrame({'Column name: ': df.columns, 'Data type: ': df.dtypes})"
   ]
  },
  {
   "cell_type": "code",
   "execution_count": 7,
   "id": "62ba58abfbd8c43a",
   "metadata": {
    "ExecuteTime": {
     "end_time": "2023-11-12T22:50:38.715775500Z",
     "start_time": "2023-11-12T22:50:37.686112800Z"
    },
    "collapsed": false
   },
   "outputs": [
    {
     "data": {
      "text/plain": [
       "93889"
      ]
     },
     "execution_count": 7,
     "metadata": {},
     "output_type": "execute_result"
    }
   ],
   "source": [
    "#5 Знайдіть кількість унікальних імен у наборі даних\n",
    "import pandas as pd\n",
    "\n",
    "csv_path = 'csv/NationalNames.csv'\n",
    "df = pd.read_csv(csv_path)\n",
    "df['Name'].nunique()"
   ]
  },
  {
   "cell_type": "code",
   "execution_count": 8,
   "id": "2312c2e243e17a5b",
   "metadata": {
    "ExecuteTime": {
     "end_time": "2023-11-12T22:50:44.254774600Z",
     "start_time": "2023-11-12T22:50:42.743322600Z"
    },
    "collapsed": false
   },
   "outputs": [
    {
     "data": {
      "text/plain": [
       "Year\n",
       "1880     1889\n",
       "1881     1830\n",
       "1882     2012\n",
       "1883     1962\n",
       "1884     2158\n",
       "        ...  \n",
       "2010    31603\n",
       "2011    31418\n",
       "2012    31236\n",
       "2013    30774\n",
       "2014    30579\n",
       "Name: Name, Length: 135, dtype: int64"
      ]
     },
     "execution_count": 8,
     "metadata": {},
     "output_type": "execute_result"
    }
   ],
   "source": [
    "#10 Підрахуйте кількість унікальних імен у кожному році\n",
    "import pandas as pd\n",
    "\n",
    "csv_path = 'csv/NationalNames.csv'\n",
    "df = pd.read_csv(csv_path)\n",
    "df.groupby('Year')['Name'].nunique()"
   ]
  },
  {
   "cell_type": "code",
   "execution_count": 9,
   "id": "6adf861eb1fbd040",
   "metadata": {
    "ExecuteTime": {
     "end_time": "2023-11-12T22:50:45.852681300Z",
     "start_time": "2023-11-12T22:50:44.246773100Z"
    },
    "collapsed": false
   },
   "outputs": [
    {
     "data": {
      "text/plain": [
       "2008"
      ]
     },
     "execution_count": 9,
     "metadata": {},
     "output_type": "execute_result"
    }
   ],
   "source": [
    "#11 Знайдіть рік із найбільшою кількістю унікальних імен.\n",
    "import pandas as pd\n",
    "\n",
    "csv_path = 'csv/NationalNames.csv'\n",
    "df = pd.read_csv(csv_path)\n",
    "df.groupby('Year')['Name'].nunique().idxmax()"
   ]
  },
  {
   "cell_type": "code",
   "execution_count": 10,
   "id": "316f7e1fa8a64001",
   "metadata": {
    "ExecuteTime": {
     "end_time": "2023-11-12T22:50:46.606538500Z",
     "start_time": "2023-11-12T22:50:45.854680800Z"
    },
    "collapsed": false
   },
   "outputs": [
    {
     "data": {
      "text/plain": [
       "'Jacob'"
      ]
     },
     "execution_count": 10,
     "metadata": {},
     "output_type": "execute_result"
    }
   ],
   "source": [
    "#12 Знайдіть найпопулярніше ім’я в році з найбільшою кількістю унікальних імен\n",
    "import pandas as pd\n",
    "\n",
    "csv_path = 'csv/NationalNames.csv'\n",
    "df = pd.read_csv(csv_path)\n",
    "count = df.loc[df['Year'] == 2008, 'Count'].max()\n",
    "df.loc[df['Count'] == count, 'Name'].values[0]"
   ]
  },
  {
   "cell_type": "code",
   "execution_count": 11,
   "id": "22bbc4faa4896c89",
   "metadata": {
    "ExecuteTime": {
     "end_time": "2023-11-12T22:50:47.764790500Z",
     "start_time": "2023-11-12T22:50:46.610541700Z"
    },
    "collapsed": false
   },
   "outputs": [
    {
     "data": {
      "text/html": [
       "<div>\n",
       "<style scoped>\n",
       "    .dataframe tbody tr th:only-of-type {\n",
       "        vertical-align: middle;\n",
       "    }\n",
       "\n",
       "    .dataframe tbody tr th {\n",
       "        vertical-align: top;\n",
       "    }\n",
       "\n",
       "    .dataframe thead th {\n",
       "        text-align: right;\n",
       "    }\n",
       "</style>\n",
       "<table border=\"1\" class=\"dataframe\">\n",
       "  <thead>\n",
       "    <tr style=\"text-align: right;\">\n",
       "      <th></th>\n",
       "      <th>Id</th>\n",
       "      <th>Name</th>\n",
       "      <th>Year</th>\n",
       "      <th>Gender</th>\n",
       "      <th>Count</th>\n",
       "    </tr>\n",
       "  </thead>\n",
       "  <tbody>\n",
       "    <tr>\n",
       "      <th>1455556</th>\n",
       "      <td>1455557</td>\n",
       "      <td>Jacob</td>\n",
       "      <td>2004</td>\n",
       "      <td>F</td>\n",
       "      <td>171</td>\n",
       "    </tr>\n",
       "  </tbody>\n",
       "</table>\n",
       "</div>"
      ],
      "text/plain": [
       "              Id   Name  Year Gender  Count\n",
       "1455556  1455557  Jacob  2004      F    171"
      ]
     },
     "execution_count": 11,
     "metadata": {},
     "output_type": "execute_result"
    }
   ],
   "source": [
    "#13 Знайдіть рік, коли ім’я “Jacob” було найпопулярнішим серед жіночих імен\n",
    "import pandas as pd\n",
    "\n",
    "csv_path = 'csv/NationalNames.csv'\n",
    "df = pd.read_csv(csv_path)\n",
    "count = df.loc[\n",
    "    (df['Gender'] == 'F') &\n",
    "    (df['Name'] == 'Jacob'),\n",
    "    'Count'\n",
    "].max()\n",
    "df.loc[\n",
    "    (df['Gender'] == 'F') &\n",
    "    (df['Name'] == 'Jacob') &\n",
    "    (df['Count'] == count)\n",
    "]"
   ]
  },
  {
   "cell_type": "code",
   "execution_count": 12,
   "id": "d8a3d0a60d52fa79",
   "metadata": {
    "ExecuteTime": {
     "end_time": "2023-11-12T22:50:49.804973200Z",
     "start_time": "2023-11-12T22:50:47.762791Z"
    },
    "collapsed": false
   },
   "outputs": [
    {
     "name": "stdout",
     "output_type": "stream",
     "text": [
      "Year: 2009; gender neutral names: 7372\n"
     ]
    }
   ],
   "source": [
    "#14 Знайти рік із найбільшою кількістю гендерно нейтральних імен (однакові чоловічі та жіночі імена)\n",
    "import pandas as pd\n",
    "\n",
    "csv_path = 'csv/NationalNames.csv'\n",
    "df = pd.read_csv(csv_path)\n",
    "grouped = df.groupby('Name').sum().reset_index()\n",
    "gender_neutral = df[df['Name'].isin(grouped[grouped['Gender'].str.contains('MF|FM', regex=True)]['Name'].values)]\n",
    "year = gender_neutral.groupby(['Year'])['Name'].nunique().idxmax()\n",
    "print(f\"Year: {year}; gender neutral names: {gender_neutral[gender_neutral['Year'] == year]['Name'].nunique()}\")"
   ]
  },
  {
   "cell_type": "code",
   "execution_count": 13,
   "id": "136391a17276b651",
   "metadata": {
    "ExecuteTime": {
     "end_time": "2023-11-12T22:50:50.524138300Z",
     "start_time": "2023-11-12T22:50:49.792857700Z"
    },
    "collapsed": false
   },
   "outputs": [
    {
     "data": {
      "text/plain": [
       "Year\n",
       "1880    201484\n",
       "1881    192699\n",
       "1882    221538\n",
       "1883    216950\n",
       "1884    243467\n",
       "Name: Count, dtype: int64"
      ]
     },
     "execution_count": 13,
     "metadata": {},
     "output_type": "execute_result"
    }
   ],
   "source": [
    "#15 Знайдіть загальну кількість народжень за рік.\n",
    "import pandas as pd\n",
    "\n",
    "csv_path = 'csv/NationalNames.csv'\n",
    "df = pd.read_csv(csv_path)\n",
    "df.groupby('Year')['Count'].sum().head(5)"
   ]
  },
  {
   "cell_type": "code",
   "execution_count": 14,
   "id": "851c5001f7c4e7e1",
   "metadata": {
    "ExecuteTime": {
     "end_time": "2023-11-12T22:50:51.254724300Z",
     "start_time": "2023-11-12T22:50:50.514135800Z"
    },
    "collapsed": false
   },
   "outputs": [
    {
     "data": {
      "text/plain": [
       "1957"
      ]
     },
     "execution_count": 14,
     "metadata": {},
     "output_type": "execute_result"
    }
   ],
   "source": [
    "#16 Знайдіть рік, коли народилося найбільше дітей\n",
    "import pandas as pd\n",
    "\n",
    "csv_path = 'csv/NationalNames.csv'\n",
    "df = pd.read_csv(csv_path)\n",
    "df.groupby('Year')['Count'].sum().idxmax()"
   ]
  },
  {
   "cell_type": "code",
   "execution_count": 15,
   "id": "56aa9ce19801897e",
   "metadata": {
    "ExecuteTime": {
     "end_time": "2023-11-12T22:50:52.111991900Z",
     "start_time": "2023-11-12T22:50:51.244722800Z"
    },
    "collapsed": false
   },
   "outputs": [
    {
     "data": {
      "text/html": [
       "<div>\n",
       "<style scoped>\n",
       "    .dataframe tbody tr th:only-of-type {\n",
       "        vertical-align: middle;\n",
       "    }\n",
       "\n",
       "    .dataframe tbody tr th {\n",
       "        vertical-align: top;\n",
       "    }\n",
       "\n",
       "    .dataframe thead th {\n",
       "        text-align: right;\n",
       "    }\n",
       "</style>\n",
       "<table border=\"1\" class=\"dataframe\">\n",
       "  <thead>\n",
       "    <tr style=\"text-align: right;\">\n",
       "      <th>Gender</th>\n",
       "      <th>F</th>\n",
       "      <th>M</th>\n",
       "    </tr>\n",
       "    <tr>\n",
       "      <th>Year</th>\n",
       "      <th></th>\n",
       "      <th></th>\n",
       "    </tr>\n",
       "  </thead>\n",
       "  <tbody>\n",
       "    <tr>\n",
       "      <th>1880</th>\n",
       "      <td>90993</td>\n",
       "      <td>110491</td>\n",
       "    </tr>\n",
       "    <tr>\n",
       "      <th>1881</th>\n",
       "      <td>91954</td>\n",
       "      <td>100745</td>\n",
       "    </tr>\n",
       "    <tr>\n",
       "      <th>1882</th>\n",
       "      <td>107850</td>\n",
       "      <td>113688</td>\n",
       "    </tr>\n",
       "    <tr>\n",
       "      <th>1883</th>\n",
       "      <td>112321</td>\n",
       "      <td>104629</td>\n",
       "    </tr>\n",
       "    <tr>\n",
       "      <th>1884</th>\n",
       "      <td>129022</td>\n",
       "      <td>114445</td>\n",
       "    </tr>\n",
       "  </tbody>\n",
       "</table>\n",
       "</div>"
      ],
      "text/plain": [
       "Gender       F       M\n",
       "Year                  \n",
       "1880     90993  110491\n",
       "1881     91954  100745\n",
       "1882    107850  113688\n",
       "1883    112321  104629\n",
       "1884    129022  114445"
      ]
     },
     "execution_count": 15,
     "metadata": {},
     "output_type": "execute_result"
    }
   ],
   "source": [
    "#17 Знайдіть кількість дівчаток та хлопчиків, які народились кожного року\n",
    "import pandas as pd\n",
    "\n",
    "csv_path = 'csv/NationalNames.csv'\n",
    "df = pd.read_csv(csv_path)\n",
    "genders_counts_df = df.groupby(['Year', 'Gender'])['Count'].sum().reset_index()\n",
    "genders_counts_df.pivot(index = 'Year', columns = 'Gender', values = 'Count').head(5)"
   ]
  },
  {
   "cell_type": "code",
   "execution_count": 16,
   "id": "a1053e2d4d23089a",
   "metadata": {
    "ExecuteTime": {
     "end_time": "2023-11-12T22:50:53.299671400Z",
     "start_time": "2023-11-12T22:50:52.114992800Z"
    },
    "collapsed": false
   },
   "outputs": [
    {
     "data": {
      "text/plain": [
       "108"
      ]
     },
     "execution_count": 16,
     "metadata": {},
     "output_type": "execute_result"
    }
   ],
   "source": [
    "#18 Підрахуйте кількість років, коли дівчаток народжувалось більше, ніж хлопчиків.\n",
    "import pandas as pd\n",
    "\n",
    "csv_path = 'csv/NationalNames.csv'\n",
    "df = pd.read_csv(csv_path)\n",
    "genders_counts_df = df.groupby(['Year', 'Gender'])['Count'].sum().reset_index()\n",
    "genders_counts_df = genders_counts_df.pivot(index = 'Year', columns = 'Gender', values = 'Count')\n",
    "genders_counts_df.loc[genders_counts_df['F'] > genders_counts_df['M']].size"
   ]
  },
  {
   "cell_type": "code",
   "execution_count": 17,
   "id": "62870b8e9a79b4db",
   "metadata": {
    "ExecuteTime": {
     "end_time": "2023-11-12T22:50:56.757399200Z",
     "start_time": "2023-11-12T22:50:55.746474800Z"
    },
    "collapsed": false
   },
   "outputs": [
    {
     "data": {
      "text/plain": [
       "4139"
      ]
     },
     "execution_count": 17,
     "metadata": {},
     "output_type": "execute_result"
    }
   ],
   "source": [
    "#21 Порахуйте, скільки разів хлопчиків називали Barbara\n",
    "import pandas as pd\n",
    "\n",
    "csv_path = 'csv/NationalNames.csv'\n",
    "df = pd.read_csv(csv_path)\n",
    "df.loc[\n",
    "    (df['Name'] == 'Barbara') &\n",
    "    (df['Gender'] == 'M'),\n",
    "    'Count'\n",
    "].sum()"
   ]
  },
  {
   "cell_type": "code",
   "execution_count": 18,
   "id": "e709355b44c17c3c",
   "metadata": {
    "ExecuteTime": {
     "end_time": "2023-11-12T22:50:57.525553700Z",
     "start_time": "2023-11-12T22:50:56.748397900Z"
    },
    "collapsed": false
   },
   "outputs": [
    {
     "name": "stdout",
     "output_type": "stream",
     "text": [
      "Спостереження проводилось 135 років\n"
     ]
    }
   ],
   "source": [
    "#22 Підрахуйте скільки років проводилось спостереження\n",
    "import pandas as pd\n",
    "\n",
    "csv_path = 'csv/NationalNames.csv'\n",
    "df = pd.read_csv(csv_path)\n",
    "result = df['Year'].max() - df['Year'].min() + 1\n",
    "print(f'Спостереження проводилось {result} років')"
   ]
  },
  {
   "cell_type": "code",
   "execution_count": 20,
   "id": "6c3ab0b6c78aee4a",
   "metadata": {
    "ExecuteTime": {
     "end_time": "2023-11-13T13:35:48.116228200Z",
     "start_time": "2023-11-13T13:35:47.236164300Z"
    },
    "collapsed": false
   },
   "outputs": [
    {
     "name": "stdout",
     "output_type": "stream",
     "text": [
      "Найпорулярніше серед непопулярних імен - це Celester. Ним назвали 160\n"
     ]
    }
   ],
   "source": [
    "# 24 Знайти найпопулярніше серед непопулярних імен (непопулярне ім’я, яким називали дітей найбільшу кількість разів )\n",
    "import pandas as pd\n",
    "\n",
    "csv_path = 'csv/NationalNames.csv'\n",
    "df = pd.read_csv(csv_path)\n",
    "unpopular_names = df[df['Count'] == df['Count'].min()]\n",
    "unpopular_names_mode = unpopular_names['Name'].mode()[0]\n",
    "total_count = unpopular_names[unpopular_names['Name'] == unpopular_names_mode]['Count'].sum()\n",
    "print(f\"Найпорулярніше серед непопулярних імен - це {unpopular_names_mode}. Ним назвали {total_count}\")"
   ]
  },
  {
   "cell_type": "code",
   "execution_count": 21,
   "id": "2bb52be959e5806",
   "metadata": {
    "ExecuteTime": {
     "end_time": "2023-11-12T22:51:02.616566600Z",
     "start_time": "2023-11-12T22:51:01.420432Z"
    },
    "collapsed": false
   },
   "outputs": [
    {
     "data": {
      "text/plain": [
       "[<matplotlib.lines.Line2D at 0x1e40ae36750>]"
      ]
     },
     "execution_count": 21,
     "metadata": {},
     "output_type": "execute_result"
    },
    {
     "data": {
      "image/png": "[encoded data removed]",
      "text/plain": [
       "<Figure size 640x480 with 1 Axes>"
      ]
     },
     "metadata": {},
     "output_type": "display_data"
    }
   ],
   "source": [
    "#26 Побудувати графіки розподілення кількості жіночих імен John та чоловічих імен Mary по роках.\n",
    "import pandas as pd\n",
    "import matplotlib.pyplot as pyplot\n",
    "\n",
    "csv_path = 'csv/NationalNames.csv'\n",
    "df = pd.read_csv(csv_path)\n",
    "pyplot.xlabel('Year')\n",
    "pyplot.ylabel('Count')\n",
    "john_df = df.loc[\n",
    "    (df['Name'] == 'John') &\n",
    "    (df['Gender'] == 'F')]\n",
    "mary_df = df.loc[\n",
    "    (df['Name'] == 'Mary') &\n",
    "    (df['Gender'] == 'M')]\n",
    "pyplot.plot(john_df['Year'], john_df['Count'])\n",
    "pyplot.plot(mary_df['Year'], mary_df['Count'])"
   ]
  }
 ],
 "metadata": {
  "kernelspec": {
   "display_name": "Python 3",
   "language": "python",
   "name": "python3"
  },
  "language_info": {
   "codemirror_mode": {
    "name": "ipython",
    "version": 3
   },
   "file_extension": ".py",
   "mimetype": "text/x-python",
   "name": "python",
   "nbconvert_exporter": "python",
   "pygments_lexer": "ipython3",
   "version": "3.11.4"
  }
 },
 "nbformat": 4,
 "nbformat_minor": 5
}
